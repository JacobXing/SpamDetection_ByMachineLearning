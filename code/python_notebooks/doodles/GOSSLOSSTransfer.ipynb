{
 "cells": [
  {
   "cell_type": "code",
   "execution_count": 3,
   "metadata": {},
   "outputs": [
    {
     "name": "stdout",
     "output_type": "stream",
     "text": [
      "                                          0\n",
      "0   com\\n\\n\\n\\nOn a DA revolver, you get...\n",
      "1   \\nI don't, though when I was in Isra...\n",
      "2   ************************************...\n",
      "3   What happened in Waco is not the fau...\n",
      "4   To my fellow Columbian, I must ask, ...\n",
      "5   \\n#Rick Anderson replied to my lette...\n",
      "6   \\nSome people pay shares that are mo...\n",
      "7   Hey Serdar,\\n           What nationa...\n",
      "8   \\n\\n\\n\\nBecause there are about 40 h...\n",
      "9   \\nRight now, I'm just going to addre...\n",
      "10  \\n\\nFreedom of speech does not mean ...\n",
      "11  \\n\\n\\n\\n\\nYes, I am pro-gun, and yes...\n",
      "12  \\nThe letter implies that both warra...\n",
      "13  \\nAviation Week March 15 1993 p.48\\n...\n",
      "14  \\nExcellently put!\\n\\nEven as a libe...\n",
      "15  04/19/1993 0000  Lezghis Astir\\n\\nBy...\n",
      "16  \\n\\n\\nAs I recall, in the 60's the K...\n",
      "17  \\nSo it was a complete non-sequitur,...\n",
      "18  RE: Red, wwhite, and black, the colo...\n",
      "19  THE WHITE HOUSE\\n\\n                 ...\n"
     ]
    }
   ],
   "source": [
    "#import data\n",
    "from sklearn.datasets import fetch_20newsgroups\n",
    "import pandas as pd\n",
    "\n",
    "#limit retrieval\n",
    "pd.set_option('display.max_colwidth', 40) #display entirety of tweet document\n",
    "categories = ['talk.politics.guns','talk.politics.mideast','talk.politics.misc','talk.religion.misc']\n",
    "\n",
    "#reformat to dataframe\n",
    "dataset = fetch_20newsgroups(shuffle=True, categories=categories, random_state=1, remove=('headers','footers','quotes'))\n",
    "df = pd.DataFrame(dataset.data)\n",
    "df = df[:20]\n",
    "\n",
    "print(df)"
   ]
  },
  {
   "cell_type": "code",
   "execution_count": 4,
   "metadata": {
    "collapsed": true
   },
   "outputs": [],
   "source": [
    "#Stemming, Lemmatization and Stopword processing\n",
    "import nltk\n",
    "import string\n",
    "from nltk.corpus import stopwords as sw\n",
    "from nltk.corpus import wordnet\n",
    "from nltk import wordpunct_tokenize, WordNetLemmatizer, sent_tokenize, pos_tag\n",
    "\n",
    "# initialize constants, lematizer, punctuation and stopwords\n",
    "lemmatizer = WordNetLemmatizer()\n",
    "punct = set(string.punctuation)\n",
    "\n",
    "#define stopwords\n",
    "custom_stop_words = ['–', '\\u2019', 'u', '\\u201d', '\\u201d.',\n",
    "                     '\\u201c', 'say', 'saying', 'sayings',\n",
    "                     'says', 'us', 'un', '.\\\"', 'would',\n",
    "                     'let', '.”', 'said', ',”', 'ax','max',\n",
    "                     'b8f','g8v','a86','pl','145','ld9','0t',\n",
    "                     '34u']\n",
    "                     \n",
    "stopwords = set(sw.words('english') + custom_stop_words)\n",
    "\n",
    "def lemmatize(token, tag):\n",
    "    # collapse word inflections into single representation\n",
    "    tag = {\n",
    "        'N': wordnet.NOUN,\n",
    "        'V': wordnet.VERB,\n",
    "        'R': wordnet.ADV,\n",
    "        'J': wordnet.ADJ\n",
    "    }.get(tag[0], wordnet.NOUN)\n",
    "\n",
    "    return lemmatizer.lemmatize(token, tag)\n",
    "\n",
    "def cab_tokenizer(document):\n",
    "    # tokenize the corpus\n",
    "    tokens = []\n",
    "\n",
    "    # split the document into sentences\n",
    "    for sent in sent_tokenize(document):\n",
    "        # tokenize each sentence\n",
    "        for token, tag in pos_tag(wordpunct_tokenize(sent)):\n",
    "            # preprocess and remove unnecessary characters\n",
    "            token = token.lower()\n",
    "            token = token.strip()\n",
    "            token = token.strip('_')\n",
    "            token = token.strip('*')\n",
    "\n",
    "            # If punctuation, ignore token and continue\n",
    "            if all(char in punct for char in token):\n",
    "                continue\n",
    "\n",
    "            # If stopword, ignore token and continue\n",
    "            if token in stopwords:\n",
    "                continue\n",
    "\n",
    "            # Lemmatize the token and add back to the token\n",
    "            lemma = lemmatize(token, tag)\n",
    "\n",
    "            # Append lemmatized token to list\n",
    "            tokens.append(lemma)\n",
    "    return tokens"
   ]
  },
  {
   "cell_type": "code",
   "execution_count": 5,
   "metadata": {},
   "outputs": [
    {
     "name": "stdout",
     "output_type": "stream",
     "text": [
      "Vectorized corpus\n",
      "CPU times: user 2.55 s, sys: 104 ms, total: 2.66 s\n",
      "Wall time: 2.69 s\n"
     ]
    }
   ],
   "source": [
    "%%time\n",
    "#Preprocessing and Vector Fitting\n",
    "from sklearn.feature_extraction.text import CountVectorizer\n",
    "\n",
    "#LDA requires Count Vectorizer\n",
    "tf_vectorizer = CountVectorizer(tokenizer=cab_tokenizer,ngram_range=(1,2),\n",
    "                                   min_df=0.1, max_df=0.90)\n",
    "tf = tf_vectorizer.fit_transform(df[0])\n",
    "tf_feature_names = tf_vectorizer.get_feature_names()\n",
    "\n",
    "print(\"Vectorized corpus\")"
   ]
  },
  {
   "cell_type": "code",
   "execution_count": 6,
   "metadata": {},
   "outputs": [
    {
     "name": "stdout",
     "output_type": "stream",
     "text": [
      "Models fitted\n",
      "CPU times: user 196 ms, sys: 24 ms, total: 220 ms\n",
      "Wall time: 178 ms\n"
     ]
    }
   ],
   "source": [
    "%%time\n",
    "#Model Generation\n",
    "from sklearn.decomposition import NMF, LatentDirichletAllocation\n",
    "topics = 5\n",
    "\n",
    "#Latent Dirilicht Analysis - fit the model using term frequency vector\n",
    "lda = LatentDirichletAllocation(n_components=topics,max_iter=5,learning_method='online',learning_offset=50,random_state=0).fit(tf)\n",
    "\n",
    "print(\"Models fitted\")"
   ]
  },
  {
   "cell_type": "code",
   "execution_count": 41,
   "metadata": {},
   "outputs": [
    {
     "name": "stdout",
     "output_type": "stream",
     "text": [
      "(5, 368)\n",
      "1.0\n",
      "(20, 5)\n",
      "1.0\n"
     ]
    }
   ],
   "source": [
    "#retrieve topic word distributions, as well as document topic distributions\n",
    "normTWDist = lda.components_ / lda.components_.sum(axis=1)[:, np.newaxis] #topi word distribution\n",
    "print(normTW.shape)\n",
    "print(sum(normTW[0]))\n",
    "\n",
    "normDTDist = lda.transform(tf)\n",
    "print(normDTDist.shape)\n",
    "print(normDTDist[1].sum())"
   ]
  },
  {
   "cell_type": "code",
   "execution_count": 11,
   "metadata": {},
   "outputs": [
    {
     "name": "stdout",
     "output_type": "stream",
     "text": [
      "\n",
      "LDA Topics:\n",
      "Topic 0:\n",
      "000 rally war russia draft want two come 3 russian 600 000 include right must half center 1993 order sunday could 600 former people 1 weapon support pull live state go fact l child jackson government official disagree palestinian 10 participation 5 able one rule life heavy set separate soon pistol range ask p belong pay form early old find hard information next tomorrow muslim class individual good press nothing back create country general call national year security line living play authority hope highly high town presence large others libertarian strong work fire listen deny force people die 150 time face 500 newspaper base different office question happen reject agree move radio first control job die leader approach lot announce many remain freedom speech die war discuss small conclusion april everyone also see deliberate gun march obviously past rather jump real hill 70 address refer try comment bottom line week may think failure quote speech bit account keep red grant deal make feel reporter another well point whole clearly sort plan news choice turn post seriously man group dollar city tax sure less really either day c health part united state last thing ever matter follow continue g best yet tell explain hand 17 anyone care though around 4 require self great bruce clinton option law like think go expect point 40 united economic receive private strike single put wealthy personal yes generally net might statement important offer seven beautiful example get answer nuclear really matter visit true rely vote political remind need instead front group try decide far letter since president clinton black lead choose fashion love something sound show guess america tax dollar message however never bottom etc allow know use mention mr certainly anyway middle value progress com somewhat poor much late pro freedom complete different way maybe fund three know something give publicly mean one way anything phone talk towards bad sorry low change stop consideration speak else end way president quite look swamp military whether accept sell selective view day know edu free 14 public justify administration land cover believe exactly system open new task position meet expect even case least stand leave total ago mind owner 7 e non billion tire retreat health care seek argument rest issue nuclear weapon none opinion still accord take program purpose year ago read 60\n",
      "Topic 1:\n",
      "black war red base hope able either year example turn good use security talk disagree might whether c jackson value remain include pro ago come highly important life single day know post large keep towards new cover decide seriously official allow really matter selective feel reporter task 600 seven non form offer free exactly tire small 500 die war way end health also leader p general publicly even state still speak though late president rest ask never letter sure deal russia rather expect stop two l call certainly plan love less another require people die united news case tomorrow next thing believe somewhat authority listen strike vote whole stand mention give refer comment wealthy presence look complete ever private move bruce make low option none think go visit well however many mr deliberate conclusion right open 3 tax think group try justify health care libertarian part opinion mean retreat edu force else system owner everyone bottom line rely man radio know something separate strong quote could meet read clearly old rule administration statement guess yes find political leave net freedom speech put maybe first one way create city know dollar choice fund receive reject etc personal change hill face fire e continue draft america 70 clinton order past play see information position year ago child follow question die land pull russian really press account obviously live heavy support program real show g may least individual much quite set generally fact three anyone try self com pay like 000 lot sell matter lead approach participation last fashion sunday true 150 anyway tax dollar back choose april since control gun jump expect point explain economic public take poor bad town get 60 nothing government seek former different group 17 speech 600 000 different way answer care announce nuclear job pistol people need weapon swamp bit middle military agree address anything work law line hand view early instead discuss mind palestinian point one around issue nuclear weapon country soon 40 class 10 1 living 5 freedom progress tell must day national muslim billion sort march purpose best half united state week office sound hard 14 range belong failure high go want consideration happen others great time rally president clinton accept grant remind newspaper center argument far phone deny front accord message bottom something 4 yet sorry 1993 beautiful total 7\n",
      "Topic 2:\n",
      "mr go president know something make time get think work job look mean come tax well talk rule tell group consideration believe continue state way 000 point take year press option sure day people right pay like one force yes different question certainly issue ask task change exactly health tomorrow vote quote argument far clinton though care system also new anything follow back part clearly yet health care create range obviously discuss meet stop want accept wealthy give deal many value comment visit statement america march jackson free thing next happen try united include 1 united state listen use open another total line g life know something law put gun week around much 7 true move quite plan net program three private see two last still answer phone case bit stand cover expect whether deny l president clinton could address important day know choose anyway front leader grant hard pull maybe offer billion national 600 000 april complete even government lot else administration half 150 best never tire turn think go support hand country end man guess seek sorry set lead fact purpose 600 40 good com separate retreat 10 receive jump low land explain accord 500 need seriously p matter rest russia city general reject office position least rely participation sort town public middle pistol since whole individual bottom line bad conclusion hill swamp really generally security rather form poor dollar strong ever deliberate information e heavy announce love sound mind large face refer group try feel may military fund decide progress first bottom others draft bruce able different way 70 great one way selective presence soon keep fashion non muslim speech example failure 1993 economic real 3 either anyone play 14 high require sell speak find 60 letter remind less strike ago expect point choice really matter approach hope publicly show view political 4 russian etc might past old leave justify newspaper post radio late mention none reporter seven die war tax dollar c belong nothing towards read black class libertarian instead live early message control nuclear weapon agree pro people die owner former authority weapon nuclear news everyone fire year ago highly self edu beautiful child freedom call freedom speech single sunday personal 5 official remain somewhat red base center palestinian 17 rally disagree war allow account die living order however small opinion must\n",
      "Topic 3:\n",
      "case weapon right speech billion decide government pro use free c people mean yes one freedom issue thing much job well good tax land post nuclear political need owner still pay beautiful give disagree hope country live front city 5 keep require however whether happen libertarian program freedom speech call make nuclear weapon 17 office 14 complete allow year base 1 gun man quite die die war go account administration open force choice fire 4 statement self living others work line economic message try offer personal even purpose retreat feel small whole early dollar though mention center wealthy either instead military tell somewhat low year ago 70 10 know might ago support bad speak sorry never total 1993 national able order life value must fund point opinion single exactly late part law argument continue meet stand march great p war edu lot change justify fact publicly like people die could hard look put take system draft 40 public expect 60 7 palestinian option week vote failure address see poor sort best mind tax dollar fashion since ever deal play question true seek generally russian create include day private belong remind rule highly russia hand face 150 find leader none real news jackson sell know something come back announce rest another stop strike remain security individual swamp control sure presence rally non bottom line jump anything least anyone april 000 listen answer middle health clearly grant choose progress lead yet receive separate group hill everyone rather anyway 3 different important cover clinton range time far bit discuss muslim 500 also 600 000 half president town participation soon com black authority deny class may accord towards ask sunday large matter consideration think go net information etc follow united visit pistol talk child plan set past two believe guess old press move next strong end seriously reject position one way task leave pull day know radio obviously love many show want official something explain general care rely president clinton quote selective america state former else phone 600 health care group try e refer maybe way first newspaper bruce around nothing united state letter heavy new read get seven sound reporter last really matter different way form accept three less certainly agree comment tire g l expect point conclusion deliberate example high mr bottom approach think tomorrow turn really view red\n",
      "Topic 4:\n",
      "issue mr know one child may make true far address follow state point view work create something think different go conclusion time grant read way personal right come get whether look accord line president official life reject mean rather many self group really task well choose plan talk job move mention take letter else edu belong even bottom year consideration lot find ago believe former refer question bottom line love fact though tell single progress news jump bad receive try stop matter year ago allow rule like somewhat listen also message certainly towards bit non radio position care last continue agree l explain red show selective another either different way day people see seriously bruce change anything new others example net anyone two e low black deliberate tomorrow case account answer expect good g 3 leave nothing swamp might health 000 united state sound one way yet important fashion press man authority expect point comment beautiful pro argument obviously remain ask visit health care option separate quite base information thing remind real use really matter seven newspaper support group try order clearly yes reporter etc owner sure everyone could force less best highly first part however vote opinion much least since united strike seek past instead tax control middle give rely generally 17 offer end soon guess 1 wealthy russia quote city center russian clinton think go face want individual late hard country participation exactly rest 4 discuss 600 000 gun none office statement hand die war next government law die keep accept 500 back form pull sorry never retreat week 7 decide 60 deal 10 value 150 day know whole purpose maybe nuclear failure 1993 turn complete approach economic around call speech muslim leader nuclear weapon tax dollar 600 justify happen america anyway put open publicly 5 mind april pay free strong know something total range administration heavy security half three include military deny able 70 must still stand early town cover meet dollar war need libertarian live private fund set phone jackson post billion p choice sort small great com poor pistol class sell public people die system fire land ever 14 presence announce 40 require feel old president clinton disagree front freedom general hill living national freedom speech speak program lead play march draft high hope large sunday palestinian weapon tire political c rally\n"
     ]
    }
   ],
   "source": [
    "#display results\n",
    "def display_topics(model, feature_names, no_top_words):\n",
    "    for topic_idx, topic in enumerate(model.components_):\n",
    "        print(\"Topic {}:\".format(topic_idx))\n",
    "        print(\" \".join([feature_names[i] for i in (-topic).argsort()[:no_top_words]]))\n",
    "        \n",
    "no_top_words = 368\n",
    "\n",
    "print(\"\\nLDA Topics:\")\n",
    "display_topics(lda, tf_feature_names, no_top_words)"
   ]
  }
 ],
 "metadata": {
  "kernelspec": {
   "display_name": "Python 3",
   "language": "python",
   "name": "python3"
  },
  "language_info": {
   "codemirror_mode": {
    "name": "ipython",
    "version": 3
   },
   "file_extension": ".py",
   "mimetype": "text/x-python",
   "name": "python",
   "nbconvert_exporter": "python",
   "pygments_lexer": "ipython3",
   "version": "3.6.3"
  }
 },
 "nbformat": 4,
 "nbformat_minor": 2
}
